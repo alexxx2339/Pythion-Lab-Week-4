{
 "cells": [
  {
   "cell_type": "markdown",
   "metadata": {},
   "source": [
    "# PyCity Schools Analysis\n",
    "\n",
    "* As a whole, schools with higher budgets, did not yield better test results. By contrast, schools with higher spending per student actually (\\\\$645 - 675) underperformed compared to schools with smaller budgets (\\\\$585 per student).\n",
    "\n",
    "* As a whole, smaller and medium sized schools dramatically out-performed large sized schools on passing math performances (89-91% passing vs 67%).\n",
    "\n",
    "* As a whole, charter schools out-performed the public district schools across all metrics. However, more analysis will be required to glean if the effect is due to school practices or the fact that charter schools tend to serve smaller student populations per school. \n",
    "---"
   ]
  },
  {
   "cell_type": "markdown",
   "metadata": {},
   "source": [
    "**Note:**\n",
    "Instructions have been included for each segment. You do not have to follow them exactly, but they are included to help you think through the steps."
   ]
  },
  {
   "cell_type": "code",
   "execution_count": 34,
   "metadata": {
    "ExecuteTime": {
     "end_time": "2022-08-06T06:08:31.925112Z",
     "start_time": "2022-08-06T06:08:29.337754Z"
    }
   },
   "outputs": [
    {
     "name": "stdout",
     "output_type": "stream",
     "text": [
      "C:\\Users\\Alexx\\OneDrive\\Desktop\\Pythion-Lab-Week-4\\Lab_Assignment\n"
     ]
    }
   ],
   "source": [
    "# Dependencies and Setup\n",
    "import pandas as pd\n",
    "import numpy as np\n",
    "import sqlite3\n",
    "import os\n",
    "\n",
    "\n",
    "current_directory = os.getcwd()\n",
    "print(current_directory)\n",
    "\n",
    "# loading data from python.db database\n",
    "con = sqlite3.connect(r'./data/python.db')\n",
    "\n",
    "\n",
    "# import 'school' and 'student' tables into pandas dataframe\n",
    "school_data = pd.read_sql(\"SELECT * FROM school\", con)\n",
    "student_data = pd.read_sql(\"SELECT * FROM student\", con) \n"
   ]
  },
  {
   "cell_type": "code",
   "execution_count": 63,
   "metadata": {},
   "outputs": [
    {
     "data": {
      "text/html": [
       "<div>\n",
       "<style scoped>\n",
       "    .dataframe tbody tr th:only-of-type {\n",
       "        vertical-align: middle;\n",
       "    }\n",
       "\n",
       "    .dataframe tbody tr th {\n",
       "        vertical-align: top;\n",
       "    }\n",
       "\n",
       "    .dataframe thead th {\n",
       "        text-align: right;\n",
       "    }\n",
       "</style>\n",
       "<table border=\"1\" class=\"dataframe\">\n",
       "  <thead>\n",
       "    <tr style=\"text-align: right;\">\n",
       "      <th></th>\n",
       "      <th>id_x</th>\n",
       "      <th>Student ID</th>\n",
       "      <th>student_name</th>\n",
       "      <th>gender</th>\n",
       "      <th>grade</th>\n",
       "      <th>school_name</th>\n",
       "      <th>reading_score</th>\n",
       "      <th>math_score</th>\n",
       "      <th>id_y</th>\n",
       "      <th>School ID</th>\n",
       "      <th>type</th>\n",
       "      <th>size</th>\n",
       "      <th>budget</th>\n",
       "    </tr>\n",
       "  </thead>\n",
       "  <tbody>\n",
       "    <tr>\n",
       "      <th>0</th>\n",
       "      <td>0</td>\n",
       "      <td>0</td>\n",
       "      <td>Paul Bradley</td>\n",
       "      <td>M</td>\n",
       "      <td>9th</td>\n",
       "      <td>Huang High School</td>\n",
       "      <td>66</td>\n",
       "      <td>79</td>\n",
       "      <td>0</td>\n",
       "      <td>0</td>\n",
       "      <td>District</td>\n",
       "      <td>2917</td>\n",
       "      <td>1910635</td>\n",
       "    </tr>\n",
       "    <tr>\n",
       "      <th>1</th>\n",
       "      <td>1</td>\n",
       "      <td>1</td>\n",
       "      <td>Victor Smith</td>\n",
       "      <td>M</td>\n",
       "      <td>12th</td>\n",
       "      <td>Huang High School</td>\n",
       "      <td>94</td>\n",
       "      <td>61</td>\n",
       "      <td>0</td>\n",
       "      <td>0</td>\n",
       "      <td>District</td>\n",
       "      <td>2917</td>\n",
       "      <td>1910635</td>\n",
       "    </tr>\n",
       "    <tr>\n",
       "      <th>2</th>\n",
       "      <td>2</td>\n",
       "      <td>2</td>\n",
       "      <td>Kevin Rodriguez</td>\n",
       "      <td>M</td>\n",
       "      <td>12th</td>\n",
       "      <td>Huang High School</td>\n",
       "      <td>90</td>\n",
       "      <td>60</td>\n",
       "      <td>0</td>\n",
       "      <td>0</td>\n",
       "      <td>District</td>\n",
       "      <td>2917</td>\n",
       "      <td>1910635</td>\n",
       "    </tr>\n",
       "    <tr>\n",
       "      <th>3</th>\n",
       "      <td>3</td>\n",
       "      <td>3</td>\n",
       "      <td>Dr. Richard Scott</td>\n",
       "      <td>M</td>\n",
       "      <td>12th</td>\n",
       "      <td>Huang High School</td>\n",
       "      <td>67</td>\n",
       "      <td>58</td>\n",
       "      <td>0</td>\n",
       "      <td>0</td>\n",
       "      <td>District</td>\n",
       "      <td>2917</td>\n",
       "      <td>1910635</td>\n",
       "    </tr>\n",
       "    <tr>\n",
       "      <th>4</th>\n",
       "      <td>4</td>\n",
       "      <td>4</td>\n",
       "      <td>Bonnie Ray</td>\n",
       "      <td>F</td>\n",
       "      <td>9th</td>\n",
       "      <td>Huang High School</td>\n",
       "      <td>97</td>\n",
       "      <td>84</td>\n",
       "      <td>0</td>\n",
       "      <td>0</td>\n",
       "      <td>District</td>\n",
       "      <td>2917</td>\n",
       "      <td>1910635</td>\n",
       "    </tr>\n",
       "  </tbody>\n",
       "</table>\n",
       "</div>"
      ],
      "text/plain": [
       "   id_x  Student ID       student_name gender grade        school_name  \\\n",
       "0     0           0       Paul Bradley      M   9th  Huang High School   \n",
       "1     1           1       Victor Smith      M  12th  Huang High School   \n",
       "2     2           2    Kevin Rodriguez      M  12th  Huang High School   \n",
       "3     3           3  Dr. Richard Scott      M  12th  Huang High School   \n",
       "4     4           4         Bonnie Ray      F   9th  Huang High School   \n",
       "\n",
       "   reading_score  math_score  id_y  School ID      type  size   budget  \n",
       "0             66          79     0          0  District  2917  1910635  \n",
       "1             94          61     0          0  District  2917  1910635  \n",
       "2             90          60     0          0  District  2917  1910635  \n",
       "3             67          58     0          0  District  2917  1910635  \n",
       "4             97          84     0          0  District  2917  1910635  "
      ]
     },
     "execution_count": 63,
     "metadata": {},
     "output_type": "execute_result"
    }
   ],
   "source": [
    "# join the two tables into a single dataframe\n",
    "school_data_complete = pd.merge(student_data, school_data, how=\"left\", on=[\"school_name\", \"school_name\"])\n",
    "school_data_complete.head()"
   ]
  },
  {
   "cell_type": "markdown",
   "metadata": {},
   "source": [
    "## District Summary\n",
    "\n",
    "* Calculate the total number of schools\n",
    "\n",
    "* Calculate the total number of students\n",
    "\n",
    "* Calculate the total budget\n",
    "\n",
    "* Calculate the average math score \n",
    "\n",
    "* Calculate the average reading score\n",
    "\n",
    "* Calculate the overall passing rate (overall average score), i.e. (avg. math score + avg. reading score)/2\n",
    "\n",
    "* Calculate the percentage of students with a passing math score (70 or greater)\n",
    "\n",
    "* Calculate the percentage of students with a passing reading score (70 or greater)\n",
    "\n",
    "* Create a dataframe to hold the above results\n",
    "\n",
    "* Optional: give the displayed data cleaner formatting"
   ]
  },
  {
   "cell_type": "code",
   "execution_count": 66,
   "metadata": {},
   "outputs": [],
   "source": [
    "# Create a District Summary\n",
    "\n"
   ]
  },
  {
   "cell_type": "code",
   "execution_count": 68,
   "metadata": {},
   "outputs": [],
   "source": [
    "# Total number of schools\n",
    "\n",
    "total_schools = school_data_complete[\"school_name\"].nunique()\n"
   ]
  },
  {
   "cell_type": "code",
   "execution_count": 41,
   "metadata": {},
   "outputs": [],
   "source": [
    "# Total number of students\n",
    "\n",
    "total_students = school_data_complete[\"Student ID\"].nunique()\n",
    "\n"
   ]
  },
  {
   "cell_type": "code",
   "execution_count": 43,
   "metadata": {},
   "outputs": [],
   "source": [
    "# Total budget\n",
    "\n",
    "total_budget = school_data_complete.groupby(\"school_name\")[\"budget\"].first().sum()\n",
    "\n"
   ]
  },
  {
   "cell_type": "code",
   "execution_count": 45,
   "metadata": {},
   "outputs": [],
   "source": [
    "# Average math score)\n",
    "average_math_score = school_data_complete[\"math_score\"].mean()"
   ]
  },
  {
   "cell_type": "code",
   "execution_count": 47,
   "metadata": {},
   "outputs": [],
   "source": [
    "# Average reading score\n",
    "\n",
    "average_reading_score = school_data_complete[\"reading_score\"].mean()\n"
   ]
  },
  {
   "cell_type": "code",
   "execution_count": 49,
   "metadata": {},
   "outputs": [],
   "source": [
    "# Overall average score\n",
    "\n",
    "overall_passing_rate = (average_math_score + average_reading_score) / 2\n"
   ]
  },
  {
   "cell_type": "code",
   "execution_count": 51,
   "metadata": {},
   "outputs": [],
   "source": [
    "# Percentage of passing math (70 or greater)\n",
    "\n",
    "passing_math = school_data_complete[school_data_complete[\"math_score\"] >= 70]\n",
    "percent_passing_math = (len(passing_math) / total_students) * 100\n",
    "\n"
   ]
  },
  {
   "cell_type": "code",
   "execution_count": 53,
   "metadata": {},
   "outputs": [],
   "source": [
    "# Percentage of students passing reading (score of 70 or greater)\n",
    "passing_reading = school_data_complete[school_data_complete[\"reading_score\"] >= 70]\n",
    "percent_passing_reading = (len(passing_reading) / total_students) * 100\n",
    "\n"
   ]
  },
  {
   "cell_type": "code",
   "execution_count": 55,
   "metadata": {},
   "outputs": [
    {
     "name": "stdout",
     "output_type": "stream",
     "text": [
      "   Total Schools  Total Students    Total Budget  Average Math Score  \\\n",
      "0             15           39170  $24,649,428.00           78.985371   \n",
      "\n",
      "   Average Reading Score  Overall Passing Rate  % Passing Math  \\\n",
      "0               81.87784             80.431606       74.980853   \n",
      "\n",
      "   % Passing Reading  \n",
      "0          85.805463  \n"
     ]
    }
   ],
   "source": [
    "district_summary = pd.DataFrame({\n",
    "    \"Total Schools\": [total_schools],\n",
    "    \"Total Students\": [total_students],\n",
    "    \"Total Budget\": [total_budget],\n",
    "    \"Average Math Score\": [average_math_score],\n",
    "    \"Average Reading Score\": [average_reading_score],\n",
    "    \"Overall Passing Rate\": [overall_passing_rate],\n",
    "    \"% Passing Math\": [percent_passing_math],\n",
    "    \"% Passing Reading\": [percent_passing_reading]\n",
    "})\n",
    "\n",
    "# Format the Total Budget for better readability\n",
    "district_summary[\"Total Budget\"] = district_summary[\"Total Budget\"].map(\"${:,.2f}\".format)\n",
    "\n",
    "# Display the summary\n",
    "print(district_summary)"
   ]
  },
  {
   "cell_type": "markdown",
   "metadata": {},
   "source": [
    "## School Summary"
   ]
  },
  {
   "cell_type": "markdown",
   "metadata": {},
   "source": [
    "* Create an overview table that summarizes key metrics about each school, including:\n",
    "  * School Name\n",
    "  * School Type\n",
    "  * Total Students\n",
    "  * Total School Budget\n",
    "  * Per Student Budget\n",
    "  * Average Math Score\n",
    "  * Average Reading Score\n",
    "  * % Passing Math\n",
    "  * % Passing Reading\n",
    "  * Overall Passing Rate (Average of the above two)\n",
    "  \n",
    "* Create a dataframe to hold the above results"
   ]
  },
  {
   "cell_type": "markdown",
   "metadata": {},
   "source": [
    "### Top Performing Schools (By Passing Rate)"
   ]
  },
  {
   "cell_type": "markdown",
   "metadata": {},
   "source": [
    "* Sort and display the top five schools in overall passing rate"
   ]
  },
  {
   "cell_type": "code",
   "execution_count": 76,
   "metadata": {
    "scrolled": true
   },
   "outputs": [
    {
     "data": {
      "text/html": [
       "<div>\n",
       "<style scoped>\n",
       "    .dataframe tbody tr th:only-of-type {\n",
       "        vertical-align: middle;\n",
       "    }\n",
       "\n",
       "    .dataframe tbody tr th {\n",
       "        vertical-align: top;\n",
       "    }\n",
       "\n",
       "    .dataframe thead th {\n",
       "        text-align: right;\n",
       "    }\n",
       "</style>\n",
       "<table border=\"1\" class=\"dataframe\">\n",
       "  <thead>\n",
       "    <tr style=\"text-align: right;\">\n",
       "      <th></th>\n",
       "      <th>Overall Passing Rate</th>\n",
       "    </tr>\n",
       "    <tr>\n",
       "      <th>school_name</th>\n",
       "      <th></th>\n",
       "    </tr>\n",
       "  </thead>\n",
       "  <tbody>\n",
       "    <tr>\n",
       "      <th>Cabrera High School</th>\n",
       "      <td>95.586652</td>\n",
       "    </tr>\n",
       "    <tr>\n",
       "      <th>Thomas High School</th>\n",
       "      <td>95.290520</td>\n",
       "    </tr>\n",
       "    <tr>\n",
       "      <th>Pena High School</th>\n",
       "      <td>95.270270</td>\n",
       "    </tr>\n",
       "    <tr>\n",
       "      <th>Griffin High School</th>\n",
       "      <td>95.265668</td>\n",
       "    </tr>\n",
       "    <tr>\n",
       "      <th>Wilson High School</th>\n",
       "      <td>95.203679</td>\n",
       "    </tr>\n",
       "  </tbody>\n",
       "</table>\n",
       "</div>"
      ],
      "text/plain": [
       "                     Overall Passing Rate\n",
       "school_name                              \n",
       "Cabrera High School             95.586652\n",
       "Thomas High School              95.290520\n",
       "Pena High School                95.270270\n",
       "Griffin High School             95.265668\n",
       "Wilson High School              95.203679"
      ]
     },
     "execution_count": 76,
     "metadata": {},
     "output_type": "execute_result"
    }
   ],
   "source": [
    "\n",
    "# # Calculate total number of students per school\n",
    "total_students_school = school_data_complete.groupby(\"school_name\")[\"Student ID\"].count()\n",
    "\n",
    "# Calculate percentage of students passing math and reading\n",
    "passing_math_school = school_data_complete[school_data_complete[\"math_score\"] >= 70].groupby(\"school_name\")[\"Student ID\"].count()\n",
    "percent_passing_math_school = (passing_math_school / total_students_school) * 100\n",
    "\n",
    "passing_reading_school = school_data_complete[school_data_complete[\"reading_score\"] >= 70].groupby(\"school_name\")[\"Student ID\"].count()\n",
    "percent_passing_reading_school = (passing_reading_school / total_students_school) * 100\n",
    "\n",
    "# Calculate overall passing rate\n",
    "overall_passing_rate_school = (percent_passing_math_school + percent_passing_reading_school) / 2\n",
    "\n",
    "# Create a DataFrame for sorting\n",
    "passing_rates_df = pd.DataFrame({\n",
    "    \"Overall Passing Rate\": overall_passing_rate_school\n",
    "})\n",
    "\n",
    "# Sort schools by overall passing rate in descending order\n",
    "top_performing_schools = passing_rates_df.sort_values(\"Overall Passing Rate\", ascending=False)\n",
    "\n",
    "# Display the top 5 performing schools\n",
    "top_performing_schools.head(5)"
   ]
  },
  {
   "cell_type": "code",
   "execution_count": 78,
   "metadata": {
    "scrolled": true
   },
   "outputs": [
    {
     "data": {
      "text/plain": [
       "school_name\n",
       "Bailey High School       3124928\n",
       "Cabrera High School      1081356\n",
       "Figueroa High School     1884411\n",
       "Ford High School         1763916\n",
       "Griffin High School       917500\n",
       "Hernandez High School    3022020\n",
       "Holden High School        248087\n",
       "Huang High School        1910635\n",
       "Johnson High School      3094650\n",
       "Pena High School          585858\n",
       "Rodriguez High School    2547363\n",
       "Shelton High School      1056600\n",
       "Thomas High School       1043130\n",
       "Wilson High School       1319574\n",
       "Wright High School       1049400\n",
       "Name: budget, dtype: int64"
      ]
     },
     "execution_count": 78,
     "metadata": {},
     "output_type": "execute_result"
    }
   ],
   "source": [
    "# Calculate total school budget\n",
    "# Group data by school\n",
    "school_grouped = school_data_complete.groupby(\"school_name\")\n",
    "\n",
    "# Calculate total school budget\n",
    "total_budget_school = school_grouped[\"budget\"].first()\n",
    "\n",
    "# Display the result\n",
    "total_budget_school\n",
    "\n"
   ]
  },
  {
   "cell_type": "code",
   "execution_count": 80,
   "metadata": {},
   "outputs": [
    {
     "data": {
      "text/plain": [
       "school_name\n",
       "Bailey High School       628.0\n",
       "Cabrera High School      582.0\n",
       "Figueroa High School     639.0\n",
       "Ford High School         644.0\n",
       "Griffin High School      625.0\n",
       "Hernandez High School    652.0\n",
       "Holden High School       581.0\n",
       "Huang High School        655.0\n",
       "Johnson High School      650.0\n",
       "Pena High School         609.0\n",
       "Rodriguez High School    637.0\n",
       "Shelton High School      600.0\n",
       "Thomas High School       638.0\n",
       "Wilson High School       578.0\n",
       "Wright High School       583.0\n",
       "dtype: float64"
      ]
     },
     "execution_count": 80,
     "metadata": {},
     "output_type": "execute_result"
    }
   ],
   "source": [
    "# Calculate per student budget\n",
    "# Calculate total students per school\n",
    "total_students_school = school_grouped[\"Student ID\"].count()\n",
    "\n",
    "# Calculate per student budget\n",
    "per_student_budget = total_budget_school / total_students_school\n",
    "\n",
    "# Display the result\n",
    "per_student_budget\n",
    "\n"
   ]
  },
  {
   "cell_type": "code",
   "execution_count": 82,
   "metadata": {},
   "outputs": [
    {
     "data": {
      "text/plain": [
       "(school_name\n",
       " Bailey High School       77.048432\n",
       " Cabrera High School      83.061895\n",
       " Figueroa High School     76.711767\n",
       " Ford High School         77.102592\n",
       " Griffin High School      83.351499\n",
       " Hernandez High School    77.289752\n",
       " Holden High School       83.803279\n",
       " Huang High School        76.629414\n",
       " Johnson High School      77.072464\n",
       " Pena High School         83.839917\n",
       " Rodriguez High School    76.842711\n",
       " Shelton High School      83.359455\n",
       " Thomas High School       83.418349\n",
       " Wilson High School       83.274201\n",
       " Wright High School       83.682222\n",
       " Name: math_score, dtype: float64,\n",
       " school_name\n",
       " Bailey High School       81.033963\n",
       " Cabrera High School      83.975780\n",
       " Figueroa High School     81.158020\n",
       " Ford High School         80.746258\n",
       " Griffin High School      83.816757\n",
       " Hernandez High School    80.934412\n",
       " Holden High School       83.814988\n",
       " Huang High School        81.182722\n",
       " Johnson High School      80.966394\n",
       " Pena High School         84.044699\n",
       " Rodriguez High School    80.744686\n",
       " Shelton High School      83.725724\n",
       " Thomas High School       83.848930\n",
       " Wilson High School       83.989488\n",
       " Wright High School       83.955000\n",
       " Name: reading_score, dtype: float64)"
      ]
     },
     "execution_count": 82,
     "metadata": {},
     "output_type": "execute_result"
    }
   ],
   "source": [
    "# Cacluate the avg math and reading score\n",
    "\n",
    "# Calculate average math and reading scores per school\n",
    "average_math_school = school_grouped[\"math_score\"].mean()\n",
    "average_reading_school = school_grouped[\"reading_score\"].mean()\n",
    "\n",
    "# Display the result\n",
    "average_math_school, average_reading_school"
   ]
  },
  {
   "cell_type": "markdown",
   "metadata": {},
   "source": [
    "#### Find the passing rate for math and reading (above 70 points)"
   ]
  },
  {
   "cell_type": "code",
   "execution_count": 85,
   "metadata": {},
   "outputs": [
    {
     "data": {
      "text/plain": [
       "school_name\n",
       "Bailey High School       66.680064\n",
       "Cabrera High School      94.133477\n",
       "Figueroa High School     65.988471\n",
       "Ford High School         68.309602\n",
       "Griffin High School      93.392371\n",
       "Hernandez High School    66.752967\n",
       "Holden High School       92.505855\n",
       "Huang High School        65.683922\n",
       "Johnson High School      66.057551\n",
       "Pena High School         94.594595\n",
       "Rodriguez High School    66.366592\n",
       "Shelton High School      93.867121\n",
       "Thomas High School       93.272171\n",
       "Wilson High School       93.867718\n",
       "Wright High School       93.333333\n",
       "dtype: float64"
      ]
     },
     "execution_count": 85,
     "metadata": {},
     "output_type": "execute_result"
    }
   ],
   "source": [
    "# Find the total counts of math scores per school\n",
    "total_math_counts = school_data_complete.groupby(\"school_name\")[\"math_score\"].count()\n",
    "\n",
    "# Find the counts of students per school who scored 70 or higher in math\n",
    "passing_math_counts = school_data_complete[school_data_complete[\"math_score\"] >= 70].groupby(\"school_name\")[\"Student ID\"].count()\n",
    "\n",
    "# Calculate the math passing rate per school\n",
    "math_passing_rate = (passing_math_counts / total_math_counts) * 100\n",
    "\n",
    "# Display the result\n",
    "math_passing_rate\n"
   ]
  },
  {
   "cell_type": "code",
   "execution_count": 87,
   "metadata": {},
   "outputs": [
    {
     "data": {
      "text/plain": [
       "school_name\n",
       "Bailey High School       81.933280\n",
       "Cabrera High School      97.039828\n",
       "Figueroa High School     80.739234\n",
       "Ford High School         79.299014\n",
       "Griffin High School      97.138965\n",
       "Hernandez High School    80.862999\n",
       "Holden High School       96.252927\n",
       "Huang High School        81.316421\n",
       "Johnson High School      81.222432\n",
       "Pena High School         95.945946\n",
       "Rodriguez High School    80.220055\n",
       "Shelton High School      95.854628\n",
       "Thomas High School       97.308869\n",
       "Wilson High School       96.539641\n",
       "Wright High School       96.611111\n",
       "dtype: float64"
      ]
     },
     "execution_count": 87,
     "metadata": {},
     "output_type": "execute_result"
    }
   ],
   "source": [
    "# Find the total counts of reading scores per school\n",
    "total_reading_counts = school_data_complete.groupby(\"school_name\")[\"reading_score\"].count()\n",
    "\n",
    "# Find the counts of students per school who scored 70 or higher in reading\n",
    "passing_reading_counts = school_data_complete[school_data_complete[\"reading_score\"] >= 70].groupby(\"school_name\")[\"Student ID\"].count()\n",
    "\n",
    "# Calculate the reading passing rate per school\n",
    "reading_passing_rate = (passing_reading_counts / total_reading_counts) * 100\n",
    "\n",
    "# Display the result\n",
    "reading_passing_rate\n",
    "\n",
    "\n"
   ]
  },
  {
   "cell_type": "code",
   "execution_count": 89,
   "metadata": {},
   "outputs": [
    {
     "data": {
      "text/plain": [
       "school_name\n",
       "Bailey High School       74.306672\n",
       "Cabrera High School      95.586652\n",
       "Figueroa High School     73.363852\n",
       "Ford High School         73.804308\n",
       "Griffin High School      95.265668\n",
       "Hernandez High School    73.807983\n",
       "Holden High School       94.379391\n",
       "Huang High School        73.500171\n",
       "Johnson High School      73.639992\n",
       "Pena High School         95.270270\n",
       "Rodriguez High School    73.293323\n",
       "Shelton High School      94.860875\n",
       "Thomas High School       95.290520\n",
       "Wilson High School       95.203679\n",
       "Wright High School       94.972222\n",
       "dtype: float64"
      ]
     },
     "execution_count": 89,
     "metadata": {},
     "output_type": "execute_result"
    }
   ],
   "source": [
    "# Calculate the overall passing rate (average of the math and reading passing rate)\n",
    "# Calculate the overall passing rate (average of the math and reading passing rates)\n",
    "overall_passing_rate = (math_passing_rate + reading_passing_rate) / 2\n",
    "\n",
    "# Display the result\n",
    "overall_passing_rate\n"
   ]
  },
  {
   "cell_type": "code",
   "execution_count": null,
   "metadata": {},
   "outputs": [],
   "source": []
  },
  {
   "cell_type": "code",
   "execution_count": null,
   "metadata": {},
   "outputs": [],
   "source": []
  },
  {
   "cell_type": "code",
   "execution_count": null,
   "metadata": {},
   "outputs": [],
   "source": []
  },
  {
   "cell_type": "markdown",
   "metadata": {},
   "source": [
    "### Bottom Performing Schools (By Passing Rate)"
   ]
  },
  {
   "cell_type": "markdown",
   "metadata": {},
   "source": [
    "* Sort and display the five worst-performing schools"
   ]
  },
  {
   "cell_type": "code",
   "execution_count": 96,
   "metadata": {},
   "outputs": [
    {
     "data": {
      "text/plain": [
       "school_name\n",
       "Rodriguez High School    73.293323\n",
       "Figueroa High School     73.363852\n",
       "Huang High School        73.500171\n",
       "Johnson High School      73.639992\n",
       "Ford High School         73.804308\n",
       "dtype: float64"
      ]
     },
     "execution_count": 96,
     "metadata": {},
     "output_type": "execute_result"
    }
   ],
   "source": [
    "#  Sort and display the worst five schools in overall passing rate\n",
    "\n",
    "bottom_performing_schools = overall_passing_rate.sort_values(ascending=True)\n",
    "\n",
    "# Display the bottom five performing schools\n",
    "bottom_performing_schools.head(5)\n"
   ]
  },
  {
   "cell_type": "markdown",
   "metadata": {
    "collapsed": true,
    "jupyter": {
     "outputs_hidden": true
    }
   },
   "source": [
    "## Math Scores by Grade"
   ]
  },
  {
   "cell_type": "markdown",
   "metadata": {},
   "source": [
    "* Create a table that lists the average Reading Score for students of each grade level (9th, 10th, 11th, 12th) at each school.\n",
    "\n",
    "  * Create a pandas series for each grade. Hint: use a conditional statement.\n",
    "  \n",
    "  * Group each series by school\n",
    "  \n",
    "  * Combine the series into a dataframe\n",
    "  \n",
    "  * Optional: give the displayed data cleaner formatting"
   ]
  },
  {
   "cell_type": "code",
   "execution_count": 104,
   "metadata": {},
   "outputs": [
    {
     "data": {
      "text/html": [
       "<div>\n",
       "<style scoped>\n",
       "    .dataframe tbody tr th:only-of-type {\n",
       "        vertical-align: middle;\n",
       "    }\n",
       "\n",
       "    .dataframe tbody tr th {\n",
       "        vertical-align: top;\n",
       "    }\n",
       "\n",
       "    .dataframe thead th {\n",
       "        text-align: right;\n",
       "    }\n",
       "</style>\n",
       "<table border=\"1\" class=\"dataframe\">\n",
       "  <thead>\n",
       "    <tr style=\"text-align: right;\">\n",
       "      <th></th>\n",
       "      <th>9th Grade</th>\n",
       "      <th>10th Grade</th>\n",
       "      <th>11th Grade</th>\n",
       "      <th>12th Grade</th>\n",
       "    </tr>\n",
       "    <tr>\n",
       "      <th>school_name</th>\n",
       "      <th></th>\n",
       "      <th></th>\n",
       "      <th></th>\n",
       "      <th></th>\n",
       "    </tr>\n",
       "  </thead>\n",
       "  <tbody>\n",
       "    <tr>\n",
       "      <th>Bailey High School</th>\n",
       "      <td>77.083676</td>\n",
       "      <td>76.996772</td>\n",
       "      <td>77.515588</td>\n",
       "      <td>76.492218</td>\n",
       "    </tr>\n",
       "    <tr>\n",
       "      <th>Cabrera High School</th>\n",
       "      <td>83.094697</td>\n",
       "      <td>83.154506</td>\n",
       "      <td>82.765560</td>\n",
       "      <td>83.277487</td>\n",
       "    </tr>\n",
       "    <tr>\n",
       "      <th>Figueroa High School</th>\n",
       "      <td>76.403037</td>\n",
       "      <td>76.539974</td>\n",
       "      <td>76.884344</td>\n",
       "      <td>77.151369</td>\n",
       "    </tr>\n",
       "    <tr>\n",
       "      <th>Ford High School</th>\n",
       "      <td>77.361345</td>\n",
       "      <td>77.672316</td>\n",
       "      <td>76.918058</td>\n",
       "      <td>76.179963</td>\n",
       "    </tr>\n",
       "    <tr>\n",
       "      <th>Griffin High School</th>\n",
       "      <td>82.044010</td>\n",
       "      <td>84.229064</td>\n",
       "      <td>83.842105</td>\n",
       "      <td>83.356164</td>\n",
       "    </tr>\n",
       "    <tr>\n",
       "      <th>Hernandez High School</th>\n",
       "      <td>77.438495</td>\n",
       "      <td>77.337408</td>\n",
       "      <td>77.136029</td>\n",
       "      <td>77.186567</td>\n",
       "    </tr>\n",
       "    <tr>\n",
       "      <th>Holden High School</th>\n",
       "      <td>83.787402</td>\n",
       "      <td>83.429825</td>\n",
       "      <td>85.000000</td>\n",
       "      <td>82.855422</td>\n",
       "    </tr>\n",
       "    <tr>\n",
       "      <th>Huang High School</th>\n",
       "      <td>77.027251</td>\n",
       "      <td>75.908735</td>\n",
       "      <td>76.446602</td>\n",
       "      <td>77.225641</td>\n",
       "    </tr>\n",
       "    <tr>\n",
       "      <th>Johnson High School</th>\n",
       "      <td>77.187857</td>\n",
       "      <td>76.691117</td>\n",
       "      <td>77.491653</td>\n",
       "      <td>76.863248</td>\n",
       "    </tr>\n",
       "    <tr>\n",
       "      <th>Pena High School</th>\n",
       "      <td>83.625455</td>\n",
       "      <td>83.372000</td>\n",
       "      <td>84.328125</td>\n",
       "      <td>84.121547</td>\n",
       "    </tr>\n",
       "    <tr>\n",
       "      <th>Rodriguez High School</th>\n",
       "      <td>76.859966</td>\n",
       "      <td>76.612500</td>\n",
       "      <td>76.395626</td>\n",
       "      <td>77.690748</td>\n",
       "    </tr>\n",
       "    <tr>\n",
       "      <th>Shelton High School</th>\n",
       "      <td>83.420755</td>\n",
       "      <td>82.917411</td>\n",
       "      <td>83.383495</td>\n",
       "      <td>83.778976</td>\n",
       "    </tr>\n",
       "    <tr>\n",
       "      <th>Thomas High School</th>\n",
       "      <td>83.590022</td>\n",
       "      <td>83.087886</td>\n",
       "      <td>83.498795</td>\n",
       "      <td>83.497041</td>\n",
       "    </tr>\n",
       "    <tr>\n",
       "      <th>Wilson High School</th>\n",
       "      <td>83.085578</td>\n",
       "      <td>83.724422</td>\n",
       "      <td>83.195326</td>\n",
       "      <td>83.035794</td>\n",
       "    </tr>\n",
       "    <tr>\n",
       "      <th>Wright High School</th>\n",
       "      <td>83.264706</td>\n",
       "      <td>84.010288</td>\n",
       "      <td>83.836782</td>\n",
       "      <td>83.644986</td>\n",
       "    </tr>\n",
       "  </tbody>\n",
       "</table>\n",
       "</div>"
      ],
      "text/plain": [
       "                       9th Grade  10th Grade  11th Grade  12th Grade\n",
       "school_name                                                         \n",
       "Bailey High School     77.083676   76.996772   77.515588   76.492218\n",
       "Cabrera High School    83.094697   83.154506   82.765560   83.277487\n",
       "Figueroa High School   76.403037   76.539974   76.884344   77.151369\n",
       "Ford High School       77.361345   77.672316   76.918058   76.179963\n",
       "Griffin High School    82.044010   84.229064   83.842105   83.356164\n",
       "Hernandez High School  77.438495   77.337408   77.136029   77.186567\n",
       "Holden High School     83.787402   83.429825   85.000000   82.855422\n",
       "Huang High School      77.027251   75.908735   76.446602   77.225641\n",
       "Johnson High School    77.187857   76.691117   77.491653   76.863248\n",
       "Pena High School       83.625455   83.372000   84.328125   84.121547\n",
       "Rodriguez High School  76.859966   76.612500   76.395626   77.690748\n",
       "Shelton High School    83.420755   82.917411   83.383495   83.778976\n",
       "Thomas High School     83.590022   83.087886   83.498795   83.497041\n",
       "Wilson High School     83.085578   83.724422   83.195326   83.035794\n",
       "Wright High School     83.264706   84.010288   83.836782   83.644986"
      ]
     },
     "execution_count": 104,
     "metadata": {},
     "output_type": "execute_result"
    }
   ],
   "source": [
    "# Create a table that lists the average math score for each school of each grade level.\n",
    "\n",
    "# Calculate the average math score for each grade level in each school\n",
    "math_scores_9th = school_data_complete[school_data_complete[\"grade\"] == \"9th\"].groupby(\"school_name\")[\"math_score\"].mean()\n",
    "math_scores_10th = school_data_complete[school_data_complete[\"grade\"] == \"10th\"].groupby(\"school_name\")[\"math_score\"].mean()\n",
    "math_scores_11th = school_data_complete[school_data_complete[\"grade\"] == \"11th\"].groupby(\"school_name\")[\"math_score\"].mean()\n",
    "math_scores_12th = school_data_complete[school_data_complete[\"grade\"] == \"12th\"].groupby(\"school_name\")[\"math_score\"].mean()\n",
    "\n",
    "\n",
    "\n",
    "\n",
    "math_scores_by_grade = pd.DataFrame({\n",
    "    \"9th Grade\": math_scores_9th,\n",
    "    \"10th Grade\": math_scores_10th,\n",
    "    \"11th Grade\": math_scores_11th,\n",
    "    \"12th Grade\": math_scores_12th\n",
    "})\n",
    "\n",
    "# Display the formatted DataFrame\n",
    "math_scores_by_grade\n",
    "\n"
   ]
  },
  {
   "cell_type": "code",
   "execution_count": 106,
   "metadata": {},
   "outputs": [
    {
     "data": {
      "text/plain": [
       "school_name\n",
       "Bailey High School       77.083676\n",
       "Cabrera High School      83.094697\n",
       "Figueroa High School     76.403037\n",
       "Ford High School         77.361345\n",
       "Griffin High School      82.044010\n",
       "Hernandez High School    77.438495\n",
       "Holden High School       83.787402\n",
       "Huang High School        77.027251\n",
       "Johnson High School      77.187857\n",
       "Pena High School         83.625455\n",
       "Rodriguez High School    76.859966\n",
       "Shelton High School      83.420755\n",
       "Thomas High School       83.590022\n",
       "Wilson High School       83.085578\n",
       "Wright High School       83.264706\n",
       "Name: math_score, dtype: float64"
      ]
     },
     "execution_count": 106,
     "metadata": {},
     "output_type": "execute_result"
    }
   ],
   "source": [
    "# Calculate the average math score for 9th grade in each school\n",
    "math_scores_9th = school_data_complete[school_data_complete[\"grade\"] == \"9th\"].groupby(\"school_name\")[\"math_score\"].mean()\n",
    "\n",
    "# Display the result\n",
    "math_scores_9th\n",
    "\n"
   ]
  },
  {
   "cell_type": "code",
   "execution_count": 108,
   "metadata": {},
   "outputs": [
    {
     "data": {
      "text/plain": [
       "school_name\n",
       "Bailey High School       76.996772\n",
       "Cabrera High School      83.154506\n",
       "Figueroa High School     76.539974\n",
       "Ford High School         77.672316\n",
       "Griffin High School      84.229064\n",
       "Hernandez High School    77.337408\n",
       "Holden High School       83.429825\n",
       "Huang High School        75.908735\n",
       "Johnson High School      76.691117\n",
       "Pena High School         83.372000\n",
       "Rodriguez High School    76.612500\n",
       "Shelton High School      82.917411\n",
       "Thomas High School       83.087886\n",
       "Wilson High School       83.724422\n",
       "Wright High School       84.010288\n",
       "Name: math_score, dtype: float64"
      ]
     },
     "execution_count": 108,
     "metadata": {},
     "output_type": "execute_result"
    }
   ],
   "source": [
    "# Calculate the average math score for 10th grade in each school\n",
    "math_scores_10th = school_data_complete[school_data_complete[\"grade\"] == \"10th\"].groupby(\"school_name\")[\"math_score\"].mean()\n",
    "\n",
    "# Display the result\n",
    "math_scores_10th\n",
    "\n"
   ]
  },
  {
   "cell_type": "code",
   "execution_count": 110,
   "metadata": {},
   "outputs": [
    {
     "data": {
      "text/plain": [
       "school_name\n",
       "Bailey High School       77.515588\n",
       "Cabrera High School      82.765560\n",
       "Figueroa High School     76.884344\n",
       "Ford High School         76.918058\n",
       "Griffin High School      83.842105\n",
       "Hernandez High School    77.136029\n",
       "Holden High School       85.000000\n",
       "Huang High School        76.446602\n",
       "Johnson High School      77.491653\n",
       "Pena High School         84.328125\n",
       "Rodriguez High School    76.395626\n",
       "Shelton High School      83.383495\n",
       "Thomas High School       83.498795\n",
       "Wilson High School       83.195326\n",
       "Wright High School       83.836782\n",
       "Name: math_score, dtype: float64"
      ]
     },
     "execution_count": 110,
     "metadata": {},
     "output_type": "execute_result"
    }
   ],
   "source": [
    "# Calculate the average math score for 11th grade in each school\n",
    "# Filter for 11th-grade students and calculate the average math score per school\n",
    "math_scores_11th = school_data_complete[school_data_complete[\"grade\"] == \"11th\"].groupby(\"school_name\")[\"math_score\"].mean()\n",
    "\n",
    "# Display the result\n",
    "math_scores_11th\n",
    "\n"
   ]
  },
  {
   "cell_type": "code",
   "execution_count": 112,
   "metadata": {},
   "outputs": [
    {
     "data": {
      "text/plain": [
       "school_name\n",
       "Bailey High School       76.492218\n",
       "Cabrera High School      83.277487\n",
       "Figueroa High School     77.151369\n",
       "Ford High School         76.179963\n",
       "Griffin High School      83.356164\n",
       "Hernandez High School    77.186567\n",
       "Holden High School       82.855422\n",
       "Huang High School        77.225641\n",
       "Johnson High School      76.863248\n",
       "Pena High School         84.121547\n",
       "Rodriguez High School    77.690748\n",
       "Shelton High School      83.778976\n",
       "Thomas High School       83.497041\n",
       "Wilson High School       83.035794\n",
       "Wright High School       83.644986\n",
       "Name: math_score, dtype: float64"
      ]
     },
     "execution_count": 112,
     "metadata": {},
     "output_type": "execute_result"
    }
   ],
   "source": [
    "# Calculate the average math score for 12th grade in each school\n",
    "\n",
    "math_scores_12th = school_data_complete[school_data_complete[\"grade\"] == \"12th\"].groupby(\"school_name\")[\"math_score\"].mean()\n",
    "\n",
    "# Display the result\n",
    "math_scores_12th\n"
   ]
  },
  {
   "cell_type": "markdown",
   "metadata": {},
   "source": [
    "### Reading Score by Grade "
   ]
  },
  {
   "cell_type": "markdown",
   "metadata": {},
   "source": [
    "* Perform the same operations as above for reading scores"
   ]
  },
  {
   "cell_type": "code",
   "execution_count": 118,
   "metadata": {},
   "outputs": [
    {
     "data": {
      "text/html": [
       "<div>\n",
       "<style scoped>\n",
       "    .dataframe tbody tr th:only-of-type {\n",
       "        vertical-align: middle;\n",
       "    }\n",
       "\n",
       "    .dataframe tbody tr th {\n",
       "        vertical-align: top;\n",
       "    }\n",
       "\n",
       "    .dataframe thead th {\n",
       "        text-align: right;\n",
       "    }\n",
       "</style>\n",
       "<table border=\"1\" class=\"dataframe\">\n",
       "  <thead>\n",
       "    <tr style=\"text-align: right;\">\n",
       "      <th></th>\n",
       "      <th>9th Grade</th>\n",
       "      <th>10th Grade</th>\n",
       "      <th>11th Grade</th>\n",
       "      <th>12th Grade</th>\n",
       "    </tr>\n",
       "    <tr>\n",
       "      <th>school_name</th>\n",
       "      <th></th>\n",
       "      <th></th>\n",
       "      <th></th>\n",
       "      <th></th>\n",
       "    </tr>\n",
       "  </thead>\n",
       "  <tbody>\n",
       "    <tr>\n",
       "      <th>Bailey High School</th>\n",
       "      <td>81.303155</td>\n",
       "      <td>80.907183</td>\n",
       "      <td>80.945643</td>\n",
       "      <td>80.912451</td>\n",
       "    </tr>\n",
       "    <tr>\n",
       "      <th>Cabrera High School</th>\n",
       "      <td>83.676136</td>\n",
       "      <td>84.253219</td>\n",
       "      <td>83.788382</td>\n",
       "      <td>84.287958</td>\n",
       "    </tr>\n",
       "    <tr>\n",
       "      <th>Figueroa High School</th>\n",
       "      <td>81.198598</td>\n",
       "      <td>81.408912</td>\n",
       "      <td>80.640339</td>\n",
       "      <td>81.384863</td>\n",
       "    </tr>\n",
       "    <tr>\n",
       "      <th>Ford High School</th>\n",
       "      <td>80.632653</td>\n",
       "      <td>81.262712</td>\n",
       "      <td>80.403642</td>\n",
       "      <td>80.662338</td>\n",
       "    </tr>\n",
       "    <tr>\n",
       "      <th>Griffin High School</th>\n",
       "      <td>83.369193</td>\n",
       "      <td>83.706897</td>\n",
       "      <td>84.288089</td>\n",
       "      <td>84.013699</td>\n",
       "    </tr>\n",
       "    <tr>\n",
       "      <th>Hernandez High School</th>\n",
       "      <td>80.866860</td>\n",
       "      <td>80.660147</td>\n",
       "      <td>81.396140</td>\n",
       "      <td>80.857143</td>\n",
       "    </tr>\n",
       "    <tr>\n",
       "      <th>Holden High School</th>\n",
       "      <td>83.677165</td>\n",
       "      <td>83.324561</td>\n",
       "      <td>83.815534</td>\n",
       "      <td>84.698795</td>\n",
       "    </tr>\n",
       "    <tr>\n",
       "      <th>Huang High School</th>\n",
       "      <td>81.290284</td>\n",
       "      <td>81.512386</td>\n",
       "      <td>81.417476</td>\n",
       "      <td>80.305983</td>\n",
       "    </tr>\n",
       "    <tr>\n",
       "      <th>Johnson High School</th>\n",
       "      <td>81.260714</td>\n",
       "      <td>80.773431</td>\n",
       "      <td>80.616027</td>\n",
       "      <td>81.227564</td>\n",
       "    </tr>\n",
       "    <tr>\n",
       "      <th>Pena High School</th>\n",
       "      <td>83.807273</td>\n",
       "      <td>83.612000</td>\n",
       "      <td>84.335938</td>\n",
       "      <td>84.591160</td>\n",
       "    </tr>\n",
       "    <tr>\n",
       "      <th>Rodriguez High School</th>\n",
       "      <td>80.993127</td>\n",
       "      <td>80.629808</td>\n",
       "      <td>80.864811</td>\n",
       "      <td>80.376426</td>\n",
       "    </tr>\n",
       "    <tr>\n",
       "      <th>Shelton High School</th>\n",
       "      <td>84.122642</td>\n",
       "      <td>83.441964</td>\n",
       "      <td>84.373786</td>\n",
       "      <td>82.781671</td>\n",
       "    </tr>\n",
       "    <tr>\n",
       "      <th>Thomas High School</th>\n",
       "      <td>83.728850</td>\n",
       "      <td>84.254157</td>\n",
       "      <td>83.585542</td>\n",
       "      <td>83.831361</td>\n",
       "    </tr>\n",
       "    <tr>\n",
       "      <th>Wilson High School</th>\n",
       "      <td>83.939778</td>\n",
       "      <td>84.021452</td>\n",
       "      <td>83.764608</td>\n",
       "      <td>84.317673</td>\n",
       "    </tr>\n",
       "    <tr>\n",
       "      <th>Wright High School</th>\n",
       "      <td>83.833333</td>\n",
       "      <td>83.812757</td>\n",
       "      <td>84.156322</td>\n",
       "      <td>84.073171</td>\n",
       "    </tr>\n",
       "  </tbody>\n",
       "</table>\n",
       "</div>"
      ],
      "text/plain": [
       "                       9th Grade  10th Grade  11th Grade  12th Grade\n",
       "school_name                                                         \n",
       "Bailey High School     81.303155   80.907183   80.945643   80.912451\n",
       "Cabrera High School    83.676136   84.253219   83.788382   84.287958\n",
       "Figueroa High School   81.198598   81.408912   80.640339   81.384863\n",
       "Ford High School       80.632653   81.262712   80.403642   80.662338\n",
       "Griffin High School    83.369193   83.706897   84.288089   84.013699\n",
       "Hernandez High School  80.866860   80.660147   81.396140   80.857143\n",
       "Holden High School     83.677165   83.324561   83.815534   84.698795\n",
       "Huang High School      81.290284   81.512386   81.417476   80.305983\n",
       "Johnson High School    81.260714   80.773431   80.616027   81.227564\n",
       "Pena High School       83.807273   83.612000   84.335938   84.591160\n",
       "Rodriguez High School  80.993127   80.629808   80.864811   80.376426\n",
       "Shelton High School    84.122642   83.441964   84.373786   82.781671\n",
       "Thomas High School     83.728850   84.254157   83.585542   83.831361\n",
       "Wilson High School     83.939778   84.021452   83.764608   84.317673\n",
       "Wright High School     83.833333   83.812757   84.156322   84.073171"
      ]
     },
     "execution_count": 118,
     "metadata": {},
     "output_type": "execute_result"
    }
   ],
   "source": [
    "# Create table that lists the average reading score for each school of each grade level.\n",
    "# Calculate the average reading score for each grade level in each school\n",
    "reading_scores_9th = school_data_complete[school_data_complete[\"grade\"] == \"9th\"].groupby(\"school_name\")[\"reading_score\"].mean()\n",
    "reading_scores_10th = school_data_complete[school_data_complete[\"grade\"] == \"10th\"].groupby(\"school_name\")[\"reading_score\"].mean()\n",
    "reading_scores_11th = school_data_complete[school_data_complete[\"grade\"] == \"11th\"].groupby(\"school_name\")[\"reading_score\"].mean()\n",
    "reading_scores_12th = school_data_complete[school_data_complete[\"grade\"] == \"12th\"].groupby(\"school_name\")[\"reading_score\"].mean()\n",
    "\n",
    "\n",
    "# Combine all grade-level reading scores into a single DataFrame\n",
    "reading_scores_by_grade = pd.DataFrame({\n",
    "    \"9th Grade\": reading_scores_9th,\n",
    "    \"10th Grade\": reading_scores_10th,\n",
    "    \"11th Grade\": reading_scores_11th,\n",
    "    \"12th Grade\": reading_scores_12th\n",
    "})\n",
    "\n",
    "# Display the formatted DataFrame\n",
    "reading_scores_by_grade\n",
    "\n"
   ]
  },
  {
   "cell_type": "code",
   "execution_count": 120,
   "metadata": {},
   "outputs": [
    {
     "data": {
      "text/plain": [
       "school_name\n",
       "Bailey High School       81.303155\n",
       "Cabrera High School      83.676136\n",
       "Figueroa High School     81.198598\n",
       "Ford High School         80.632653\n",
       "Griffin High School      83.369193\n",
       "Hernandez High School    80.866860\n",
       "Holden High School       83.677165\n",
       "Huang High School        81.290284\n",
       "Johnson High School      81.260714\n",
       "Pena High School         83.807273\n",
       "Rodriguez High School    80.993127\n",
       "Shelton High School      84.122642\n",
       "Thomas High School       83.728850\n",
       "Wilson High School       83.939778\n",
       "Wright High School       83.833333\n",
       "Name: reading_score, dtype: float64"
      ]
     },
     "execution_count": 120,
     "metadata": {},
     "output_type": "execute_result"
    }
   ],
   "source": [
    "# Calculate the average reading score for 9th grade in each school\n",
    "# Filter for 9th-grade students and calculate the average reading score per school\n",
    "reading_scores_9th = school_data_complete[school_data_complete[\"grade\"] == \"9th\"].groupby(\"school_name\")[\"reading_score\"].mean()\n",
    "\n",
    "# Display the result\n",
    "reading_scores_9th\n",
    "\n",
    "\n"
   ]
  },
  {
   "cell_type": "code",
   "execution_count": 122,
   "metadata": {},
   "outputs": [
    {
     "data": {
      "text/plain": [
       "school_name\n",
       "Bailey High School       80.907183\n",
       "Cabrera High School      84.253219\n",
       "Figueroa High School     81.408912\n",
       "Ford High School         81.262712\n",
       "Griffin High School      83.706897\n",
       "Hernandez High School    80.660147\n",
       "Holden High School       83.324561\n",
       "Huang High School        81.512386\n",
       "Johnson High School      80.773431\n",
       "Pena High School         83.612000\n",
       "Rodriguez High School    80.629808\n",
       "Shelton High School      83.441964\n",
       "Thomas High School       84.254157\n",
       "Wilson High School       84.021452\n",
       "Wright High School       83.812757\n",
       "Name: reading_score, dtype: float64"
      ]
     },
     "execution_count": 122,
     "metadata": {},
     "output_type": "execute_result"
    }
   ],
   "source": [
    "# Calculate the average reading score for 10th grade in each school\n",
    "# Filter for 10th-grade students and calculate the average reading score per school\n",
    "reading_scores_10th = school_data_complete[school_data_complete[\"grade\"] == \"10th\"].groupby(\"school_name\")[\"reading_score\"].mean()\n",
    "\n",
    "# Display the result\n",
    "reading_scores_10th\n",
    "\n"
   ]
  },
  {
   "cell_type": "code",
   "execution_count": 124,
   "metadata": {},
   "outputs": [
    {
     "data": {
      "text/plain": [
       "school_name\n",
       "Bailey High School       80.945643\n",
       "Cabrera High School      83.788382\n",
       "Figueroa High School     80.640339\n",
       "Ford High School         80.403642\n",
       "Griffin High School      84.288089\n",
       "Hernandez High School    81.396140\n",
       "Holden High School       83.815534\n",
       "Huang High School        81.417476\n",
       "Johnson High School      80.616027\n",
       "Pena High School         84.335938\n",
       "Rodriguez High School    80.864811\n",
       "Shelton High School      84.373786\n",
       "Thomas High School       83.585542\n",
       "Wilson High School       83.764608\n",
       "Wright High School       84.156322\n",
       "Name: reading_score, dtype: float64"
      ]
     },
     "execution_count": 124,
     "metadata": {},
     "output_type": "execute_result"
    }
   ],
   "source": [
    "# Calculate the average reading score for 11th grade in each school\n",
    "\n",
    "reading_scores_11th = school_data_complete[school_data_complete[\"grade\"] == \"11th\"].groupby(\"school_name\")[\"reading_score\"].mean()\n",
    "\n",
    "# Display the result\n",
    "reading_scores_11th\n"
   ]
  },
  {
   "cell_type": "code",
   "execution_count": 126,
   "metadata": {},
   "outputs": [
    {
     "data": {
      "text/plain": [
       "school_name\n",
       "Bailey High School       80.912451\n",
       "Cabrera High School      84.287958\n",
       "Figueroa High School     81.384863\n",
       "Ford High School         80.662338\n",
       "Griffin High School      84.013699\n",
       "Hernandez High School    80.857143\n",
       "Holden High School       84.698795\n",
       "Huang High School        80.305983\n",
       "Johnson High School      81.227564\n",
       "Pena High School         84.591160\n",
       "Rodriguez High School    80.376426\n",
       "Shelton High School      82.781671\n",
       "Thomas High School       83.831361\n",
       "Wilson High School       84.317673\n",
       "Wright High School       84.073171\n",
       "Name: reading_score, dtype: float64"
      ]
     },
     "execution_count": 126,
     "metadata": {},
     "output_type": "execute_result"
    }
   ],
   "source": [
    "# Calculate the average reading score for 12th grade in each school\n",
    "\n",
    "# Filter for 12th-grade students and calculate the average reading score per school\n",
    "reading_scores_12th = school_data_complete[school_data_complete[\"grade\"] == \"12th\"].groupby(\"school_name\")[\"reading_score\"].mean()\n",
    "\n",
    "# Display the result\n",
    "reading_scores_12th\n"
   ]
  },
  {
   "cell_type": "markdown",
   "metadata": {},
   "source": [
    "## Scores by School Spending"
   ]
  },
  {
   "cell_type": "markdown",
   "metadata": {},
   "source": [
    "* Create a table that breaks down school performances based on average Spending Ranges (Per Student). Use 4 reasonable bins to group school spending. Include in the table each of the following:\n",
    "  * Average Math Score\n",
    "  * Average Reading Score\n",
    "  * % Passing Math\n",
    "  * % Passing Reading\n",
    "  * Overall Passing Rate (Average of the above two)"
   ]
  },
  {
   "cell_type": "code",
   "execution_count": 130,
   "metadata": {},
   "outputs": [],
   "source": [
    "# Sample bins. Feel free to create your own bins.\n",
    "spending_bins = [0, 585, 615, 645, 675]\n",
    "group_names = [\"<$585\", \"$585-615\", \"$615-645\", \"$645-675\"]"
   ]
  },
  {
   "cell_type": "code",
   "execution_count": 132,
   "metadata": {},
   "outputs": [
    {
     "data": {
      "text/html": [
       "<div>\n",
       "<style scoped>\n",
       "    .dataframe tbody tr th:only-of-type {\n",
       "        vertical-align: middle;\n",
       "    }\n",
       "\n",
       "    .dataframe tbody tr th {\n",
       "        vertical-align: top;\n",
       "    }\n",
       "\n",
       "    .dataframe thead th {\n",
       "        text-align: right;\n",
       "    }\n",
       "</style>\n",
       "<table border=\"1\" class=\"dataframe\">\n",
       "  <thead>\n",
       "    <tr style=\"text-align: right;\">\n",
       "      <th></th>\n",
       "      <th>school_name</th>\n",
       "      <th>budget</th>\n",
       "      <th>size</th>\n",
       "      <th>Per Student Budget</th>\n",
       "    </tr>\n",
       "  </thead>\n",
       "  <tbody>\n",
       "    <tr>\n",
       "      <th>0</th>\n",
       "      <td>Huang High School</td>\n",
       "      <td>1910635</td>\n",
       "      <td>2917</td>\n",
       "      <td>655.0</td>\n",
       "    </tr>\n",
       "    <tr>\n",
       "      <th>1</th>\n",
       "      <td>Huang High School</td>\n",
       "      <td>1910635</td>\n",
       "      <td>2917</td>\n",
       "      <td>655.0</td>\n",
       "    </tr>\n",
       "    <tr>\n",
       "      <th>2</th>\n",
       "      <td>Huang High School</td>\n",
       "      <td>1910635</td>\n",
       "      <td>2917</td>\n",
       "      <td>655.0</td>\n",
       "    </tr>\n",
       "    <tr>\n",
       "      <th>3</th>\n",
       "      <td>Huang High School</td>\n",
       "      <td>1910635</td>\n",
       "      <td>2917</td>\n",
       "      <td>655.0</td>\n",
       "    </tr>\n",
       "    <tr>\n",
       "      <th>4</th>\n",
       "      <td>Huang High School</td>\n",
       "      <td>1910635</td>\n",
       "      <td>2917</td>\n",
       "      <td>655.0</td>\n",
       "    </tr>\n",
       "  </tbody>\n",
       "</table>\n",
       "</div>"
      ],
      "text/plain": [
       "         school_name   budget  size  Per Student Budget\n",
       "0  Huang High School  1910635  2917               655.0\n",
       "1  Huang High School  1910635  2917               655.0\n",
       "2  Huang High School  1910635  2917               655.0\n",
       "3  Huang High School  1910635  2917               655.0\n",
       "4  Huang High School  1910635  2917               655.0"
      ]
     },
     "execution_count": 132,
     "metadata": {},
     "output_type": "execute_result"
    }
   ],
   "source": [
    "# Create a new column to show budget per student in each row\n",
    "school_data_complete[\"Per Student Budget\"] = school_data_complete[\"budget\"] / school_data_complete[\"size\"]\n",
    "\n",
    "# Display the updated DataFrame\n",
    "school_data_complete[[\"school_name\", \"budget\", \"size\", \"Per Student Budget\"]].head()\n"
   ]
  },
  {
   "cell_type": "code",
   "execution_count": 134,
   "metadata": {},
   "outputs": [
    {
     "data": {
      "text/html": [
       "<div>\n",
       "<style scoped>\n",
       "    .dataframe tbody tr th:only-of-type {\n",
       "        vertical-align: middle;\n",
       "    }\n",
       "\n",
       "    .dataframe tbody tr th {\n",
       "        vertical-align: top;\n",
       "    }\n",
       "\n",
       "    .dataframe thead th {\n",
       "        text-align: right;\n",
       "    }\n",
       "</style>\n",
       "<table border=\"1\" class=\"dataframe\">\n",
       "  <thead>\n",
       "    <tr style=\"text-align: right;\">\n",
       "      <th></th>\n",
       "      <th>school_name</th>\n",
       "      <th>Per Student Budget</th>\n",
       "      <th>Spending Ranges (Per Student)</th>\n",
       "    </tr>\n",
       "  </thead>\n",
       "  <tbody>\n",
       "    <tr>\n",
       "      <th>0</th>\n",
       "      <td>Huang High School</td>\n",
       "      <td>655.0</td>\n",
       "      <td>$645-675</td>\n",
       "    </tr>\n",
       "    <tr>\n",
       "      <th>1</th>\n",
       "      <td>Huang High School</td>\n",
       "      <td>655.0</td>\n",
       "      <td>$645-675</td>\n",
       "    </tr>\n",
       "    <tr>\n",
       "      <th>2</th>\n",
       "      <td>Huang High School</td>\n",
       "      <td>655.0</td>\n",
       "      <td>$645-675</td>\n",
       "    </tr>\n",
       "    <tr>\n",
       "      <th>3</th>\n",
       "      <td>Huang High School</td>\n",
       "      <td>655.0</td>\n",
       "      <td>$645-675</td>\n",
       "    </tr>\n",
       "    <tr>\n",
       "      <th>4</th>\n",
       "      <td>Huang High School</td>\n",
       "      <td>655.0</td>\n",
       "      <td>$645-675</td>\n",
       "    </tr>\n",
       "  </tbody>\n",
       "</table>\n",
       "</div>"
      ],
      "text/plain": [
       "         school_name  Per Student Budget Spending Ranges (Per Student)\n",
       "0  Huang High School               655.0                      $645-675\n",
       "1  Huang High School               655.0                      $645-675\n",
       "2  Huang High School               655.0                      $645-675\n",
       "3  Huang High School               655.0                      $645-675\n",
       "4  Huang High School               655.0                      $645-675"
      ]
     },
     "execution_count": 134,
     "metadata": {},
     "output_type": "execute_result"
    }
   ],
   "source": [
    "# Create a new column to define the spending ranges per student\n",
    "spending_bins = [0, 585, 615, 645, 675]\n",
    "group_names = [\"<$585\", \"$585-615\", \"$615-645\", \"$645-675\"]\n",
    "\n",
    "# Create a new column categorizing schools into spending bins\n",
    "school_data_complete[\"Spending Ranges (Per Student)\"] = pd.cut(\n",
    "    school_data_complete[\"Per Student Budget\"], spending_bins, labels=group_names\n",
    ")\n",
    "\n",
    "# Display the updated DataFrame\n",
    "school_data_complete[[\"school_name\", \"Per Student Budget\", \"Spending Ranges (Per Student)\"]].head()\n",
    "\n"
   ]
  },
  {
   "cell_type": "code",
   "execution_count": 136,
   "metadata": {},
   "outputs": [
    {
     "data": {
      "text/plain": [
       "Spending Ranges (Per Student)\n",
       "<$585       83.363065\n",
       "$585-615    83.529196\n",
       "$615-645    78.061635\n",
       "$645-675    77.049297\n",
       "Name: math_score, dtype: float64"
      ]
     },
     "execution_count": 136,
     "metadata": {},
     "output_type": "execute_result"
    }
   ],
   "source": [
    "# Calculate the average math score within each spending range\n",
    "\n",
    "# Group by spending range and calculate average math score\n",
    "spending_math_scores = school_data_complete.groupby(\"Spending Ranges (Per Student)\", observed=False)[\"math_score\"].mean()\n",
    "\n",
    "# Display result\n",
    "spending_math_scores\n",
    "\n"
   ]
  },
  {
   "cell_type": "code",
   "execution_count": 138,
   "metadata": {},
   "outputs": [
    {
     "data": {
      "text/plain": [
       "Spending Ranges (Per Student)\n",
       "<$585       93.702889\n",
       "$585-615    94.124128\n",
       "$615-645    71.400428\n",
       "$645-675    66.230813\n",
       "Name: Student ID, dtype: float64"
      ]
     },
     "execution_count": 138,
     "metadata": {},
     "output_type": "execute_result"
    }
   ],
   "source": [
    "# Calculate the percentage passing rate for math in each spending range\n",
    "\n",
    "spending_passing_math = school_data_complete[school_data_complete[\"math_score\"] >= 70].groupby(\n",
    "    \"Spending Ranges (Per Student)\", observed=False)[\"Student ID\"].count()\n",
    "\n",
    "# Get total students per spending range\n",
    "total_students_spending = school_data_complete.groupby(\n",
    "    \"Spending Ranges (Per Student)\", observed=False)[\"Student ID\"].count()\n",
    "\n",
    "# Compute percentage passing math\n",
    "spending_passing_math_percentage = (spending_passing_math / total_students_spending) * 100\n",
    "\n",
    "# Display result\n",
    "spending_passing_math_percentage\n"
   ]
  },
  {
   "cell_type": "code",
   "execution_count": 140,
   "metadata": {},
   "outputs": [
    {
     "data": {
      "text/plain": [
       "Spending Ranges (Per Student)\n",
       "<$585       96.686558\n",
       "$585-615    95.886889\n",
       "$615-645    83.614770\n",
       "$645-675    81.109397\n",
       "Name: Student ID, dtype: float64"
      ]
     },
     "execution_count": 140,
     "metadata": {},
     "output_type": "execute_result"
    }
   ],
   "source": [
    "# Calculate the percentage passing rate for reading in each spending range\n",
    "\n",
    "\n",
    "# Count students passing reading (score >= 70) per spending range\n",
    "spending_passing_reading = school_data_complete[school_data_complete[\"reading_score\"] >= 70].groupby(\n",
    "    \"Spending Ranges (Per Student)\", observed=False)[\"Student ID\"].count()\n",
    "\n",
    "# Get total students per spending range\n",
    "total_students_spending = school_data_complete.groupby(\n",
    "    \"Spending Ranges (Per Student)\", observed=False)[\"Student ID\"].count()\n",
    "\n",
    "# Compute percentage passing reading\n",
    "spending_passing_reading_percentage = (spending_passing_reading / total_students_spending) * 100\n",
    "\n",
    "# Display result\n",
    "spending_passing_reading_percentage"
   ]
  },
  {
   "cell_type": "code",
   "execution_count": 142,
   "metadata": {},
   "outputs": [
    {
     "data": {
      "text/plain": [
       "Spending Ranges (Per Student)\n",
       "<$585       95.194724\n",
       "$585-615    95.005509\n",
       "$615-645    77.507599\n",
       "$645-675    73.670105\n",
       "Name: Student ID, dtype: float64"
      ]
     },
     "execution_count": 142,
     "metadata": {},
     "output_type": "execute_result"
    }
   ],
   "source": [
    "# Calculate the percentage overall passing rate in each spending range\n",
    "# Compute overall passing rate (average of math and reading passing percentages)\n",
    "spending_overall_passing_rate = (spending_passing_math_percentage + spending_passing_reading_percentage) / 2\n",
    "\n",
    "# Display result\n",
    "spending_overall_passing_rate\n",
    "\n"
   ]
  },
  {
   "cell_type": "markdown",
   "metadata": {},
   "source": [
    "### Scores by School Size"
   ]
  },
  {
   "cell_type": "markdown",
   "metadata": {},
   "source": [
    "* Perform the same operations as above, based on school size."
   ]
  },
  {
   "cell_type": "code",
   "execution_count": 146,
   "metadata": {},
   "outputs": [],
   "source": [
    "# Sample bins. Feel free to create your own bins.\n",
    "size_bins = [0, 1000, 2000, 5000]\n",
    "group_names = [\"Small (<1000)\", \"Medium (1000-2000)\", \"Large (2000-5000)\"]"
   ]
  },
  {
   "cell_type": "code",
   "execution_count": 148,
   "metadata": {
    "scrolled": true
   },
   "outputs": [
    {
     "data": {
      "text/html": [
       "<div>\n",
       "<style scoped>\n",
       "    .dataframe tbody tr th:only-of-type {\n",
       "        vertical-align: middle;\n",
       "    }\n",
       "\n",
       "    .dataframe tbody tr th {\n",
       "        vertical-align: top;\n",
       "    }\n",
       "\n",
       "    .dataframe thead th {\n",
       "        text-align: right;\n",
       "    }\n",
       "</style>\n",
       "<table border=\"1\" class=\"dataframe\">\n",
       "  <thead>\n",
       "    <tr style=\"text-align: right;\">\n",
       "      <th></th>\n",
       "      <th>school_name</th>\n",
       "      <th>size</th>\n",
       "      <th>School Size Category</th>\n",
       "    </tr>\n",
       "  </thead>\n",
       "  <tbody>\n",
       "    <tr>\n",
       "      <th>0</th>\n",
       "      <td>Huang High School</td>\n",
       "      <td>2917</td>\n",
       "      <td>Large (2000-5000)</td>\n",
       "    </tr>\n",
       "    <tr>\n",
       "      <th>1</th>\n",
       "      <td>Huang High School</td>\n",
       "      <td>2917</td>\n",
       "      <td>Large (2000-5000)</td>\n",
       "    </tr>\n",
       "    <tr>\n",
       "      <th>2</th>\n",
       "      <td>Huang High School</td>\n",
       "      <td>2917</td>\n",
       "      <td>Large (2000-5000)</td>\n",
       "    </tr>\n",
       "    <tr>\n",
       "      <th>3</th>\n",
       "      <td>Huang High School</td>\n",
       "      <td>2917</td>\n",
       "      <td>Large (2000-5000)</td>\n",
       "    </tr>\n",
       "    <tr>\n",
       "      <th>4</th>\n",
       "      <td>Huang High School</td>\n",
       "      <td>2917</td>\n",
       "      <td>Large (2000-5000)</td>\n",
       "    </tr>\n",
       "  </tbody>\n",
       "</table>\n",
       "</div>"
      ],
      "text/plain": [
       "         school_name  size School Size Category\n",
       "0  Huang High School  2917    Large (2000-5000)\n",
       "1  Huang High School  2917    Large (2000-5000)\n",
       "2  Huang High School  2917    Large (2000-5000)\n",
       "3  Huang High School  2917    Large (2000-5000)\n",
       "4  Huang High School  2917    Large (2000-5000)"
      ]
     },
     "execution_count": 148,
     "metadata": {},
     "output_type": "execute_result"
    }
   ],
   "source": [
    "# Create a new column for the bin groups\n",
    "# Define the size bins\n",
    "size_bins = [0, 1000, 2000, 5000]\n",
    "group_names = [\"Small (<1000)\", \"Medium (1000-2000)\", \"Large (2000-5000)\"]\n",
    "\n",
    "# Create a new column categorizing schools into size bins\n",
    "school_data_complete[\"School Size Category\"] = pd.cut(\n",
    "    school_data_complete[\"size\"], bins=size_bins, labels=group_names\n",
    ")\n",
    "\n",
    "# Display the updated DataFrame\n",
    "school_data_complete[[\"school_name\", \"size\", \"School Size Category\"]].head()"
   ]
  },
  {
   "cell_type": "markdown",
   "metadata": {},
   "source": [
    "Look for the total count of test scores that pass 70% or higher\n",
    "\n",
    "\n"
   ]
  },
  {
   "cell_type": "code",
   "execution_count": 151,
   "metadata": {},
   "outputs": [
    {
     "data": {
      "text/plain": [
       "School Size Category\n",
       "Small (<1000)         93.952484\n",
       "Medium (1000-2000)    93.616522\n",
       "Large (2000-5000)     68.652380\n",
       "Name: Student ID, dtype: float64"
      ]
     },
     "execution_count": 151,
     "metadata": {},
     "output_type": "execute_result"
    }
   ],
   "source": [
    "# math_pass_size\n",
    "\n",
    "math_pass_size = school_data_complete[school_data_complete[\"math_score\"] >= 70].groupby(\n",
    "    \"School Size Category\", observed=False)[\"Student ID\"].count()\n",
    "\n",
    "# Get total students per school size category\n",
    "total_students_size = school_data_complete.groupby(\n",
    "    \"School Size Category\", observed=False)[\"Student ID\"].count()\n",
    "\n",
    "# Compute percentage passing math\n",
    "math_pass_size_percentage = (math_pass_size / total_students_size) * 100\n",
    "\n",
    "# Display result\n",
    "math_pass_size_percentage\n"
   ]
  },
  {
   "cell_type": "code",
   "execution_count": 153,
   "metadata": {},
   "outputs": [
    {
     "data": {
      "text/plain": [
       "School Size Category\n",
       "Small (<1000)         96.040317\n",
       "Medium (1000-2000)    96.773058\n",
       "Large (2000-5000)     82.125158\n",
       "Name: Student ID, dtype: float64"
      ]
     },
     "execution_count": 153,
     "metadata": {},
     "output_type": "execute_result"
    }
   ],
   "source": [
    "# read_pass_size\n",
    "# Count students passing reading (score >= 70) per school size category\n",
    "read_pass_size = school_data_complete[school_data_complete[\"reading_score\"] >= 70].groupby(\n",
    "    \"School Size Category\", observed=False)[\"Student ID\"].count()\n",
    "\n",
    "# Compute percentage passing reading\n",
    "read_pass_size_percentage = (read_pass_size / total_students_size) * 100\n",
    "\n",
    "# Display result\n",
    "read_pass_size_percentage\n",
    "\n"
   ]
  },
  {
   "cell_type": "code",
   "execution_count": 155,
   "metadata": {},
   "outputs": [
    {
     "data": {
      "text/plain": [
       "School Size Category\n",
       "Small (<1000)         94.996400\n",
       "Medium (1000-2000)    95.194790\n",
       "Large (2000-5000)     75.388769\n",
       "Name: Student ID, dtype: float64"
      ]
     },
     "execution_count": 155,
     "metadata": {},
     "output_type": "execute_result"
    }
   ],
   "source": [
    "# Calculate the overall passing rate for different school size\n",
    "# Compute overall passing rate (average of math and reading passing percentages)\n",
    "overall_passing_size = (math_pass_size_percentage + read_pass_size_percentage) / 2\n",
    "\n",
    "# Display result\n",
    "overall_passing_size\n",
    "\n"
   ]
  },
  {
   "cell_type": "markdown",
   "metadata": {},
   "source": [
    "### Scores by School Type"
   ]
  },
  {
   "cell_type": "markdown",
   "metadata": {},
   "source": [
    "* Perform the same operations as above, based on school type."
   ]
  },
  {
   "cell_type": "code",
   "execution_count": 159,
   "metadata": {},
   "outputs": [
    {
     "data": {
      "text/html": [
       "<div>\n",
       "<style scoped>\n",
       "    .dataframe tbody tr th:only-of-type {\n",
       "        vertical-align: middle;\n",
       "    }\n",
       "\n",
       "    .dataframe tbody tr th {\n",
       "        vertical-align: top;\n",
       "    }\n",
       "\n",
       "    .dataframe thead th {\n",
       "        text-align: right;\n",
       "    }\n",
       "</style>\n",
       "<table border=\"1\" class=\"dataframe\">\n",
       "  <thead>\n",
       "    <tr style=\"text-align: right;\">\n",
       "      <th></th>\n",
       "      <th>id_x</th>\n",
       "      <th>Student ID</th>\n",
       "      <th>student_name</th>\n",
       "      <th>gender</th>\n",
       "      <th>grade</th>\n",
       "      <th>school_name</th>\n",
       "      <th>reading_score</th>\n",
       "      <th>math_score</th>\n",
       "      <th>id_y</th>\n",
       "      <th>School ID</th>\n",
       "      <th>type</th>\n",
       "      <th>size</th>\n",
       "      <th>budget</th>\n",
       "      <th>Per Student Budget</th>\n",
       "      <th>Spending Ranges (Per Student)</th>\n",
       "      <th>School Size Category</th>\n",
       "    </tr>\n",
       "  </thead>\n",
       "  <tbody>\n",
       "    <tr>\n",
       "      <th>0</th>\n",
       "      <td>0</td>\n",
       "      <td>0</td>\n",
       "      <td>Paul Bradley</td>\n",
       "      <td>M</td>\n",
       "      <td>9th</td>\n",
       "      <td>Huang High School</td>\n",
       "      <td>66</td>\n",
       "      <td>79</td>\n",
       "      <td>0</td>\n",
       "      <td>0</td>\n",
       "      <td>District</td>\n",
       "      <td>2917</td>\n",
       "      <td>1910635</td>\n",
       "      <td>655.0</td>\n",
       "      <td>$645-675</td>\n",
       "      <td>Large (2000-5000)</td>\n",
       "    </tr>\n",
       "    <tr>\n",
       "      <th>1</th>\n",
       "      <td>1</td>\n",
       "      <td>1</td>\n",
       "      <td>Victor Smith</td>\n",
       "      <td>M</td>\n",
       "      <td>12th</td>\n",
       "      <td>Huang High School</td>\n",
       "      <td>94</td>\n",
       "      <td>61</td>\n",
       "      <td>0</td>\n",
       "      <td>0</td>\n",
       "      <td>District</td>\n",
       "      <td>2917</td>\n",
       "      <td>1910635</td>\n",
       "      <td>655.0</td>\n",
       "      <td>$645-675</td>\n",
       "      <td>Large (2000-5000)</td>\n",
       "    </tr>\n",
       "    <tr>\n",
       "      <th>2</th>\n",
       "      <td>2</td>\n",
       "      <td>2</td>\n",
       "      <td>Kevin Rodriguez</td>\n",
       "      <td>M</td>\n",
       "      <td>12th</td>\n",
       "      <td>Huang High School</td>\n",
       "      <td>90</td>\n",
       "      <td>60</td>\n",
       "      <td>0</td>\n",
       "      <td>0</td>\n",
       "      <td>District</td>\n",
       "      <td>2917</td>\n",
       "      <td>1910635</td>\n",
       "      <td>655.0</td>\n",
       "      <td>$645-675</td>\n",
       "      <td>Large (2000-5000)</td>\n",
       "    </tr>\n",
       "    <tr>\n",
       "      <th>3</th>\n",
       "      <td>3</td>\n",
       "      <td>3</td>\n",
       "      <td>Dr. Richard Scott</td>\n",
       "      <td>M</td>\n",
       "      <td>12th</td>\n",
       "      <td>Huang High School</td>\n",
       "      <td>67</td>\n",
       "      <td>58</td>\n",
       "      <td>0</td>\n",
       "      <td>0</td>\n",
       "      <td>District</td>\n",
       "      <td>2917</td>\n",
       "      <td>1910635</td>\n",
       "      <td>655.0</td>\n",
       "      <td>$645-675</td>\n",
       "      <td>Large (2000-5000)</td>\n",
       "    </tr>\n",
       "    <tr>\n",
       "      <th>4</th>\n",
       "      <td>4</td>\n",
       "      <td>4</td>\n",
       "      <td>Bonnie Ray</td>\n",
       "      <td>F</td>\n",
       "      <td>9th</td>\n",
       "      <td>Huang High School</td>\n",
       "      <td>97</td>\n",
       "      <td>84</td>\n",
       "      <td>0</td>\n",
       "      <td>0</td>\n",
       "      <td>District</td>\n",
       "      <td>2917</td>\n",
       "      <td>1910635</td>\n",
       "      <td>655.0</td>\n",
       "      <td>$645-675</td>\n",
       "      <td>Large (2000-5000)</td>\n",
       "    </tr>\n",
       "    <tr>\n",
       "      <th>5866</th>\n",
       "      <td>5866</td>\n",
       "      <td>5866</td>\n",
       "      <td>Jamie Montgomery</td>\n",
       "      <td>F</td>\n",
       "      <td>12th</td>\n",
       "      <td>Shelton High School</td>\n",
       "      <td>70</td>\n",
       "      <td>91</td>\n",
       "      <td>2</td>\n",
       "      <td>2</td>\n",
       "      <td>Charter</td>\n",
       "      <td>1761</td>\n",
       "      <td>1056600</td>\n",
       "      <td>600.0</td>\n",
       "      <td>$585-615</td>\n",
       "      <td>Medium (1000-2000)</td>\n",
       "    </tr>\n",
       "    <tr>\n",
       "      <th>5867</th>\n",
       "      <td>5867</td>\n",
       "      <td>5867</td>\n",
       "      <td>Shannon Phillips</td>\n",
       "      <td>F</td>\n",
       "      <td>10th</td>\n",
       "      <td>Shelton High School</td>\n",
       "      <td>84</td>\n",
       "      <td>71</td>\n",
       "      <td>2</td>\n",
       "      <td>2</td>\n",
       "      <td>Charter</td>\n",
       "      <td>1761</td>\n",
       "      <td>1056600</td>\n",
       "      <td>600.0</td>\n",
       "      <td>$585-615</td>\n",
       "      <td>Medium (1000-2000)</td>\n",
       "    </tr>\n",
       "    <tr>\n",
       "      <th>5868</th>\n",
       "      <td>5868</td>\n",
       "      <td>5868</td>\n",
       "      <td>Todd Barber</td>\n",
       "      <td>M</td>\n",
       "      <td>11th</td>\n",
       "      <td>Shelton High School</td>\n",
       "      <td>95</td>\n",
       "      <td>99</td>\n",
       "      <td>2</td>\n",
       "      <td>2</td>\n",
       "      <td>Charter</td>\n",
       "      <td>1761</td>\n",
       "      <td>1056600</td>\n",
       "      <td>600.0</td>\n",
       "      <td>$585-615</td>\n",
       "      <td>Medium (1000-2000)</td>\n",
       "    </tr>\n",
       "    <tr>\n",
       "      <th>5869</th>\n",
       "      <td>5869</td>\n",
       "      <td>5869</td>\n",
       "      <td>Desiree King</td>\n",
       "      <td>F</td>\n",
       "      <td>12th</td>\n",
       "      <td>Shelton High School</td>\n",
       "      <td>76</td>\n",
       "      <td>95</td>\n",
       "      <td>2</td>\n",
       "      <td>2</td>\n",
       "      <td>Charter</td>\n",
       "      <td>1761</td>\n",
       "      <td>1056600</td>\n",
       "      <td>600.0</td>\n",
       "      <td>$585-615</td>\n",
       "      <td>Medium (1000-2000)</td>\n",
       "    </tr>\n",
       "    <tr>\n",
       "      <th>5870</th>\n",
       "      <td>5870</td>\n",
       "      <td>5870</td>\n",
       "      <td>Melissa Roberts</td>\n",
       "      <td>F</td>\n",
       "      <td>10th</td>\n",
       "      <td>Shelton High School</td>\n",
       "      <td>71</td>\n",
       "      <td>82</td>\n",
       "      <td>2</td>\n",
       "      <td>2</td>\n",
       "      <td>Charter</td>\n",
       "      <td>1761</td>\n",
       "      <td>1056600</td>\n",
       "      <td>600.0</td>\n",
       "      <td>$585-615</td>\n",
       "      <td>Medium (1000-2000)</td>\n",
       "    </tr>\n",
       "  </tbody>\n",
       "</table>\n",
       "</div>"
      ],
      "text/plain": [
       "      id_x  Student ID       student_name gender grade          school_name  \\\n",
       "0        0           0       Paul Bradley      M   9th    Huang High School   \n",
       "1        1           1       Victor Smith      M  12th    Huang High School   \n",
       "2        2           2    Kevin Rodriguez      M  12th    Huang High School   \n",
       "3        3           3  Dr. Richard Scott      M  12th    Huang High School   \n",
       "4        4           4         Bonnie Ray      F   9th    Huang High School   \n",
       "5866  5866        5866   Jamie Montgomery      F  12th  Shelton High School   \n",
       "5867  5867        5867   Shannon Phillips      F  10th  Shelton High School   \n",
       "5868  5868        5868        Todd Barber      M  11th  Shelton High School   \n",
       "5869  5869        5869       Desiree King      F  12th  Shelton High School   \n",
       "5870  5870        5870    Melissa Roberts      F  10th  Shelton High School   \n",
       "\n",
       "      reading_score  math_score  id_y  School ID      type  size   budget  \\\n",
       "0                66          79     0          0  District  2917  1910635   \n",
       "1                94          61     0          0  District  2917  1910635   \n",
       "2                90          60     0          0  District  2917  1910635   \n",
       "3                67          58     0          0  District  2917  1910635   \n",
       "4                97          84     0          0  District  2917  1910635   \n",
       "5866             70          91     2          2   Charter  1761  1056600   \n",
       "5867             84          71     2          2   Charter  1761  1056600   \n",
       "5868             95          99     2          2   Charter  1761  1056600   \n",
       "5869             76          95     2          2   Charter  1761  1056600   \n",
       "5870             71          82     2          2   Charter  1761  1056600   \n",
       "\n",
       "      Per Student Budget Spending Ranges (Per Student) School Size Category  \n",
       "0                  655.0                      $645-675    Large (2000-5000)  \n",
       "1                  655.0                      $645-675    Large (2000-5000)  \n",
       "2                  655.0                      $645-675    Large (2000-5000)  \n",
       "3                  655.0                      $645-675    Large (2000-5000)  \n",
       "4                  655.0                      $645-675    Large (2000-5000)  \n",
       "5866               600.0                      $585-615   Medium (1000-2000)  \n",
       "5867               600.0                      $585-615   Medium (1000-2000)  \n",
       "5868               600.0                      $585-615   Medium (1000-2000)  \n",
       "5869               600.0                      $585-615   Medium (1000-2000)  \n",
       "5870               600.0                      $585-615   Medium (1000-2000)  "
      ]
     },
     "execution_count": 159,
     "metadata": {},
     "output_type": "execute_result"
    }
   ],
   "source": [
    "# Create bins and groups, school type {'Charter', 'District'}\n",
    "\n",
    "# Group data by school type (Charter, District)\n",
    "school_type_group = school_data_complete.groupby(\"type\")\n",
    "\n",
    "# Display the first few rows of the grouped data\n",
    "school_type_group.head()\n"
   ]
  },
  {
   "cell_type": "markdown",
   "metadata": {},
   "source": [
    "Find counts of the passing 70 or higher score for the both test\n"
   ]
  },
  {
   "cell_type": "code",
   "execution_count": 162,
   "metadata": {},
   "outputs": [
    {
     "data": {
      "text/plain": [
       "type\n",
       "Charter     93.701821\n",
       "District    66.518387\n",
       "Name: Student ID, dtype: float64"
      ]
     },
     "execution_count": 162,
     "metadata": {},
     "output_type": "execute_result"
    }
   ],
   "source": [
    "# math pass size\n",
    "# Count students passing math (score >= 70) per school type\n",
    "math_pass_type = school_data_complete[school_data_complete[\"math_score\"] >= 70].groupby(\n",
    "    \"type\", observed=False)[\"Student ID\"].count()\n",
    "\n",
    "# Get total students per school type\n",
    "total_students_type = school_data_complete.groupby(\n",
    "    \"type\", observed=False)[\"Student ID\"].count()\n",
    "\n",
    "# Compute percentage passing math\n",
    "math_pass_type_percentage = (math_pass_type / total_students_type) * 100\n",
    "\n",
    "# Display result\n",
    "math_pass_type_percentage\n",
    "\n"
   ]
  },
  {
   "cell_type": "code",
   "execution_count": 164,
   "metadata": {},
   "outputs": [
    {
     "data": {
      "text/plain": [
       "type\n",
       "Charter     96.645891\n",
       "District    80.905249\n",
       "Name: Student ID, dtype: float64"
      ]
     },
     "execution_count": 164,
     "metadata": {},
     "output_type": "execute_result"
    }
   ],
   "source": [
    "# reading pass size\n",
    "\n",
    "# Count students passing reading (score >= 70) per school type\n",
    "read_pass_type = school_data_complete[school_data_complete[\"reading_score\"] >= 70].groupby(\n",
    "    \"type\", observed=False)[\"Student ID\"].count()\n",
    "\n",
    "# Compute percentage passing reading\n",
    "read_pass_type_percentage = (read_pass_type / total_students_type) * 100\n",
    "\n",
    "# Display result\n",
    "read_pass_type_percentage"
   ]
  },
  {
   "cell_type": "code",
   "execution_count": 166,
   "metadata": {},
   "outputs": [
    {
     "data": {
      "text/plain": [
       "type\n",
       "Charter     95.173856\n",
       "District    73.711818\n",
       "Name: Student ID, dtype: float64"
      ]
     },
     "execution_count": 166,
     "metadata": {},
     "output_type": "execute_result"
    }
   ],
   "source": [
    "# Calculate the overall passing rate\n",
    "# Compute overall passing rate (average of math and reading passing percentages)\n",
    "overall_passing_type = (math_pass_type_percentage + read_pass_type_percentage) / 2\n",
    "\n",
    "# Display result\n",
    "overall_passing_type\n"
   ]
  },
  {
   "cell_type": "code",
   "execution_count": 168,
   "metadata": {},
   "outputs": [
    {
     "data": {
      "text/html": [
       "<div>\n",
       "<style scoped>\n",
       "    .dataframe tbody tr th:only-of-type {\n",
       "        vertical-align: middle;\n",
       "    }\n",
       "\n",
       "    .dataframe tbody tr th {\n",
       "        vertical-align: top;\n",
       "    }\n",
       "\n",
       "    .dataframe thead th {\n",
       "        text-align: right;\n",
       "    }\n",
       "</style>\n",
       "<table border=\"1\" class=\"dataframe\">\n",
       "  <thead>\n",
       "    <tr style=\"text-align: right;\">\n",
       "      <th></th>\n",
       "      <th>% Passing Math</th>\n",
       "      <th>% Passing Reading</th>\n",
       "      <th>Overall Passing Rate</th>\n",
       "    </tr>\n",
       "    <tr>\n",
       "      <th>type</th>\n",
       "      <th></th>\n",
       "      <th></th>\n",
       "      <th></th>\n",
       "    </tr>\n",
       "  </thead>\n",
       "  <tbody>\n",
       "    <tr>\n",
       "      <th>Charter</th>\n",
       "      <td>93.701821</td>\n",
       "      <td>96.645891</td>\n",
       "      <td>95.173856</td>\n",
       "    </tr>\n",
       "    <tr>\n",
       "      <th>District</th>\n",
       "      <td>66.518387</td>\n",
       "      <td>80.905249</td>\n",
       "      <td>73.711818</td>\n",
       "    </tr>\n",
       "  </tbody>\n",
       "</table>\n",
       "</div>"
      ],
      "text/plain": [
       "          % Passing Math  % Passing Reading  Overall Passing Rate\n",
       "type                                                             \n",
       "Charter        93.701821          96.645891             95.173856\n",
       "District       66.518387          80.905249             73.711818"
      ]
     },
     "execution_count": 168,
     "metadata": {},
     "output_type": "execute_result"
    }
   ],
   "source": [
    "# Combine all calculations into a DataFrame\n",
    "type_summary = pd.DataFrame({\n",
    "    \"% Passing Math\": math_pass_type_percentage,\n",
    "    \"% Passing Reading\": read_pass_type_percentage,\n",
    "    \"Overall Passing Rate\": overall_passing_type\n",
    "})\n",
    "\n",
    "# Display formatted DataFrame\n",
    "type_summary"
   ]
  },
  {
   "cell_type": "code",
   "execution_count": null,
   "metadata": {},
   "outputs": [],
   "source": []
  },
  {
   "cell_type": "code",
   "execution_count": null,
   "metadata": {},
   "outputs": [],
   "source": []
  },
  {
   "cell_type": "code",
   "execution_count": null,
   "metadata": {},
   "outputs": [],
   "source": []
  },
  {
   "cell_type": "code",
   "execution_count": null,
   "metadata": {},
   "outputs": [],
   "source": []
  },
  {
   "cell_type": "code",
   "execution_count": null,
   "metadata": {},
   "outputs": [],
   "source": []
  }
 ],
 "metadata": {
  "anaconda-cloud": {},
  "kernel_info": {
   "name": "python3"
  },
  "kernelspec": {
   "display_name": "Python [conda env:Anaconda]",
   "language": "python",
   "name": "conda-env-Anaconda-py"
  },
  "language_info": {
   "codemirror_mode": {
    "name": "ipython",
    "version": 3
   },
   "file_extension": ".py",
   "mimetype": "text/x-python",
   "name": "python",
   "nbconvert_exporter": "python",
   "pygments_lexer": "ipython3",
   "version": "3.12.7"
  },
  "latex_envs": {
   "LaTeX_envs_menu_present": true,
   "autoclose": false,
   "autocomplete": true,
   "bibliofile": "biblio.bib",
   "cite_by": "apalike",
   "current_citInitial": 1,
   "eqLabelWithNumbers": true,
   "eqNumInitial": 1,
   "hotkeys": {
    "equation": "Ctrl-E",
    "itemize": "Ctrl-I"
   },
   "labels_anchors": false,
   "latex_user_defs": false,
   "report_style_numbering": false,
   "user_envs_cfg": false
  },
  "nteract": {
   "version": "0.8.4"
  },
  "toc": {
   "base_numbering": 1,
   "nav_menu": {},
   "number_sections": true,
   "sideBar": true,
   "skip_h1_title": false,
   "title_cell": "Table of Contents",
   "title_sidebar": "Contents",
   "toc_cell": false,
   "toc_position": {},
   "toc_section_display": true,
   "toc_window_display": false
  }
 },
 "nbformat": 4,
 "nbformat_minor": 4
}
